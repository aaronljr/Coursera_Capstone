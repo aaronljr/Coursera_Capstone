This is for capstone project

import numpy as np
import panda as pd
print ("Hellp Capstrone Project Course!")

