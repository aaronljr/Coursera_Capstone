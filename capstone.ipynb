This file is for Capstone Assignment's purpose


import numpy as np
import panda as pd
print ("Hellp Capstrone Project Course!")

